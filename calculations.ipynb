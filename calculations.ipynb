{
  "nbformat": 4,
  "nbformat_minor": 0,
  "metadata": {
    "colab": {
      "provenance": [],
      "authorship_tag": "ABX9TyPsAOjNYuP/TaROmBO8LjNQ",
      "include_colab_link": true
    },
    "kernelspec": {
      "name": "python3",
      "display_name": "Python 3"
    },
    "language_info": {
      "name": "python"
    }
  },
  "cells": [
    {
      "cell_type": "markdown",
      "metadata": {
        "id": "view-in-github",
        "colab_type": "text"
      },
      "source": [
        "<a href=\"https://colab.research.google.com/github/CarlMk7734/project1/blob/main/calculations.ipynb\" target=\"_parent\"><img src=\"https://colab.research.google.com/assets/colab-badge.svg\" alt=\"Open In Colab\"/></a>"
      ]
    },
    {
      "cell_type": "code",
      "execution_count": 11,
      "metadata": {
        "colab": {
          "base_uri": "https://localhost:8080/"
        },
        "id": "0ETvn415S7Yl",
        "outputId": "ac8551dd-156f-4ba4-e28b-5da2c619fceb"
      },
      "outputs": [
        {
          "output_type": "stream",
          "name": "stdout",
          "text": [
            "Enter the number of numbers to input: 4\n",
            "Enter a number: 5\n",
            "Enter a number: 10\n",
            "Enter a number: 5\n",
            "Enter a number: 10\n",
            "Original list: [5, 10, 5, 10]\n",
            "Sorted list ascending order: [5, 5, 10, 10]\n",
            "Sorted list descending order: [10, 10, 5, 5]\n",
            "sum: 30\n",
            "Mean: 7.5\n"
          ]
        }
      ],
      "source": [
        "# Function to get the last n numbers in ascending order\n",
        "def get_numbers_in_order(numbers, n):\n",
        "    numbers.sort()\n",
        "    return numbers[-n:]\n",
        "\n",
        "# Ask the user for the number of numbers to input\n",
        "num_count = int(input(\"Enter the number of numbers to input: \"))\n",
        "\n",
        "nums = []\n",
        "\n",
        "for _ in range(num_count):\n",
        "    num = int(input(\"Enter a number: \"))\n",
        "    nums.append(num)\n",
        "\n",
        "sorted_numbers = sorted(nums, reverse=True)\n",
        "sum= sum(nums)\n",
        "mean= sum / num_count\n",
        "\n",
        "print(\"Original list:\", nums)\n",
        "largest = get_numbers_in_order(nums, 2)\n",
        "print(\"Sorted list ascending order:\", nums)\n",
        "print(\"Sorted list descending order:\", sorted_numbers)\n",
        "print(\"sum:\", sum)\n",
        "print(\"Mean:\", mean)\n",
        "\n"
      ]
    }
  ]
}